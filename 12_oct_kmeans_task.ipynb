{
 "cells": [
  {
   "cell_type": "code",
   "execution_count": 15,
   "id": "88987c24",
   "metadata": {},
   "outputs": [],
   "source": [
    "import numpy as np\n",
    "import pandas as pd\n",
    "import matplotlib.pyplot as plt\n",
    "import seaborn as sns\n",
    "sns.set_style('whitegrid')"
   ]
  },
  {
   "cell_type": "code",
   "execution_count": 16,
   "id": "1727b665",
   "metadata": {},
   "outputs": [],
   "source": [
    "from sklearn.datasets import make_blobs"
   ]
  },
  {
   "cell_type": "code",
   "execution_count": 17,
   "id": "83076c09",
   "metadata": {},
   "outputs": [],
   "source": [
    "model = make_blobs()"
   ]
  },
  {
   "cell_type": "code",
   "execution_count": 18,
   "id": "f8f26e8d",
   "metadata": {},
   "outputs": [],
   "source": [
    "centers = [[2,3],[4,5],[6,8],[5,7]]"
   ]
  },
  {
   "cell_type": "code",
   "execution_count": 19,
   "id": "3f60260b",
   "metadata": {},
   "outputs": [],
   "source": [
    "x,_ = make_blobs(n_samples=400,centers=centers,cluster_std=0.2)"
   ]
  },
  {
   "cell_type": "code",
   "execution_count": 20,
   "id": "d449d5ed",
   "metadata": {},
   "outputs": [
    {
     "data": {
      "text/plain": [
       "array([[1.75234627, 3.09165878],\n",
       "       [3.75369078, 4.81590282],\n",
       "       [5.76284915, 7.85268971],\n",
       "       [6.17004125, 7.97701019],\n",
       "       [6.1378001 , 7.87248787],\n",
       "       [2.1232124 , 3.03494443],\n",
       "       [1.91968981, 3.29217012],\n",
       "       [3.96186527, 5.21212606],\n",
       "       [5.96615124, 7.78636445],\n",
       "       [5.92432159, 8.13337653],\n",
       "       [1.85847896, 3.21520962],\n",
       "       [6.18813342, 8.1299753 ],\n",
       "       [1.83369075, 2.7408531 ],\n",
       "       [4.86669085, 6.95281195],\n",
       "       [3.68839961, 4.93568651],\n",
       "       [2.08338914, 2.99768742],\n",
       "       [5.07346614, 7.06923445],\n",
       "       [3.95656192, 5.30194282],\n",
       "       [4.76365287, 7.27535922],\n",
       "       [2.08670152, 3.14371635],\n",
       "       [2.22622183, 3.20447989],\n",
       "       [4.00280896, 5.01998516],\n",
       "       [4.24300082, 4.82377626],\n",
       "       [5.75201987, 8.22007752],\n",
       "       [6.31970463, 7.97464786],\n",
       "       [4.74634891, 7.23799865],\n",
       "       [6.27974056, 7.73523448],\n",
       "       [5.03116061, 6.98126493],\n",
       "       [2.35963573, 2.67272959],\n",
       "       [6.39116006, 8.1056709 ],\n",
       "       [4.02477211, 5.03416965],\n",
       "       [6.50365721, 7.95994456],\n",
       "       [3.82519928, 5.18526113],\n",
       "       [5.78453414, 8.04804786],\n",
       "       [3.88777834, 5.20197668],\n",
       "       [2.06833265, 2.59366653],\n",
       "       [3.95455817, 5.01392388],\n",
       "       [6.04994592, 8.27819639],\n",
       "       [2.00244174, 2.95785073],\n",
       "       [5.93254195, 8.22237515],\n",
       "       [5.90286927, 8.03644866],\n",
       "       [6.08613811, 8.40463294],\n",
       "       [5.03417386, 6.69160172],\n",
       "       [5.3194487 , 6.97563507],\n",
       "       [5.82517779, 8.1545672 ],\n",
       "       [4.80860304, 6.79158273],\n",
       "       [5.80439802, 8.0389272 ],\n",
       "       [3.82687334, 4.96043554],\n",
       "       [5.31597239, 6.89088836],\n",
       "       [1.77182746, 3.14099819],\n",
       "       [5.01267436, 6.8803692 ],\n",
       "       [5.97701445, 7.84058295],\n",
       "       [2.35592204, 2.8271349 ],\n",
       "       [5.2154021 , 6.9720706 ],\n",
       "       [2.08921715, 2.90849286],\n",
       "       [6.03862225, 7.83007446],\n",
       "       [1.92645465, 2.89637625],\n",
       "       [4.92879673, 6.78318762],\n",
       "       [4.17298463, 4.90393895],\n",
       "       [5.00670159, 6.8975709 ],\n",
       "       [5.17194011, 7.27268461],\n",
       "       [5.70727305, 8.25982497],\n",
       "       [1.89330497, 2.91200857],\n",
       "       [5.17998204, 6.85969528],\n",
       "       [6.10727881, 7.85378411],\n",
       "       [1.82790758, 3.06785167],\n",
       "       [5.36147334, 7.12632227],\n",
       "       [2.23269919, 2.8422403 ],\n",
       "       [4.13649671, 5.24148061],\n",
       "       [5.00225535, 6.78021542],\n",
       "       [5.76162091, 8.03924116],\n",
       "       [5.16941228, 7.21859428],\n",
       "       [2.20793737, 3.16452332],\n",
       "       [6.05252467, 8.25247331],\n",
       "       [4.23892856, 5.24166868],\n",
       "       [4.08350491, 4.80560938],\n",
       "       [5.91408475, 7.9011005 ],\n",
       "       [4.26333709, 5.10018874],\n",
       "       [4.74725796, 6.86852808],\n",
       "       [6.14450665, 7.99151539],\n",
       "       [4.13128825, 4.97298102],\n",
       "       [5.25679478, 6.77940996],\n",
       "       [4.77479049, 7.28147379],\n",
       "       [2.20911403, 2.92649632],\n",
       "       [5.90852759, 7.88059866],\n",
       "       [2.0094747 , 3.04385657],\n",
       "       [5.22877232, 6.75860707],\n",
       "       [1.715682  , 2.85729072],\n",
       "       [5.22242677, 7.24427212],\n",
       "       [1.86635694, 2.62945648],\n",
       "       [5.98531444, 7.90265696],\n",
       "       [4.04091118, 5.20784862],\n",
       "       [6.21226748, 8.15858245],\n",
       "       [2.12491442, 3.02667286],\n",
       "       [6.33330617, 8.18891707],\n",
       "       [5.21631278, 6.99639118],\n",
       "       [4.00496108, 5.17558319],\n",
       "       [5.94279303, 8.23818067],\n",
       "       [5.93443173, 8.13886021],\n",
       "       [5.82299713, 8.47613009],\n",
       "       [4.17039182, 4.87464927],\n",
       "       [2.12293654, 2.90597679],\n",
       "       [5.8309589 , 7.70223923],\n",
       "       [4.77722922, 6.98001385],\n",
       "       [3.79839112, 4.78742554],\n",
       "       [5.0562885 , 6.71530214],\n",
       "       [6.18300217, 8.01364133],\n",
       "       [4.09499782, 5.11174266],\n",
       "       [1.98629706, 2.98223108],\n",
       "       [5.79199412, 8.11246934],\n",
       "       [4.24590168, 5.30451581],\n",
       "       [2.43629403, 3.01360428],\n",
       "       [1.967307  , 2.79954248],\n",
       "       [4.03157531, 4.82467181],\n",
       "       [1.71693315, 3.03696159],\n",
       "       [5.67455879, 8.01224701],\n",
       "       [3.78592827, 4.9173747 ],\n",
       "       [4.37080543, 5.31188781],\n",
       "       [4.92250662, 6.87902316],\n",
       "       [5.39019974, 7.00224997],\n",
       "       [1.96024537, 2.86862121],\n",
       "       [4.39548796, 7.22633448],\n",
       "       [2.34670091, 3.07547419],\n",
       "       [4.2063215 , 4.78130081],\n",
       "       [5.00201846, 7.11486677],\n",
       "       [5.15644621, 6.95987934],\n",
       "       [6.39577709, 7.99893486],\n",
       "       [3.67088867, 4.99787798],\n",
       "       [1.96615391, 2.90171153],\n",
       "       [4.85476817, 6.81009627],\n",
       "       [3.81121239, 5.03679869],\n",
       "       [4.09180394, 5.17428354],\n",
       "       [3.72158996, 5.11915561],\n",
       "       [6.26801881, 7.9834022 ],\n",
       "       [4.12558384, 5.3735363 ],\n",
       "       [6.04759438, 8.05236644],\n",
       "       [6.43170985, 8.1318541 ],\n",
       "       [1.96952273, 2.9921279 ],\n",
       "       [5.97194605, 7.26232387],\n",
       "       [6.19271597, 7.92005193],\n",
       "       [2.22367193, 3.21113791],\n",
       "       [2.06586336, 3.33789013],\n",
       "       [6.1740923 , 8.02917099],\n",
       "       [6.45791388, 7.78759599],\n",
       "       [5.76153602, 8.13815281],\n",
       "       [4.99058882, 7.01675146],\n",
       "       [6.41338176, 8.03235376],\n",
       "       [6.05041968, 7.91358156],\n",
       "       [4.03391288, 5.25464897],\n",
       "       [3.75451019, 4.79984185],\n",
       "       [5.02271005, 6.95053206],\n",
       "       [4.93794149, 6.93490912],\n",
       "       [6.06126776, 7.74086393],\n",
       "       [3.94547655, 5.10843068],\n",
       "       [1.94284333, 2.9865418 ],\n",
       "       [3.95410085, 5.19652297],\n",
       "       [6.01462796, 8.31719579],\n",
       "       [2.34784325, 3.12061199],\n",
       "       [3.96200797, 4.8151278 ],\n",
       "       [2.06520104, 2.82253082],\n",
       "       [4.91987177, 7.20457875],\n",
       "       [1.78481789, 2.83465621],\n",
       "       [5.00868914, 7.07247983],\n",
       "       [4.33853197, 4.68870587],\n",
       "       [6.14327764, 8.24402484],\n",
       "       [2.36929541, 2.96827058],\n",
       "       [5.74352801, 7.92683229],\n",
       "       [4.73136874, 7.10863387],\n",
       "       [5.02977333, 7.21259   ],\n",
       "       [5.91245373, 7.83698459],\n",
       "       [4.74451318, 6.75174223],\n",
       "       [2.04940316, 2.6738584 ],\n",
       "       [4.89639812, 6.84644812],\n",
       "       [3.78438922, 5.12877513],\n",
       "       [4.23833695, 5.04099712],\n",
       "       [1.90459253, 3.18311001],\n",
       "       [1.59650738, 2.83424157],\n",
       "       [4.88574634, 6.79333241],\n",
       "       [3.86882352, 4.83528013],\n",
       "       [4.16225429, 5.30618024],\n",
       "       [4.0138435 , 5.13591928],\n",
       "       [5.12170085, 7.08165066],\n",
       "       [5.79655044, 7.92170352],\n",
       "       [2.23942423, 3.10493465],\n",
       "       [4.90351798, 7.39451029],\n",
       "       [2.19999642, 3.27907631],\n",
       "       [2.23102355, 2.96485181],\n",
       "       [2.26705162, 2.68336105],\n",
       "       [5.00681273, 6.90348711],\n",
       "       [2.34076605, 3.21088482],\n",
       "       [4.82560908, 7.05304796],\n",
       "       [1.85839091, 2.60228235],\n",
       "       [2.24690972, 3.11669271],\n",
       "       [3.87168141, 5.07134511],\n",
       "       [1.76239182, 3.01475344],\n",
       "       [6.0646731 , 8.04620474],\n",
       "       [5.63074757, 7.91463797],\n",
       "       [6.05273471, 7.94377715],\n",
       "       [3.7467939 , 5.19796015],\n",
       "       [4.24794828, 5.12735851],\n",
       "       [6.07815388, 8.1771044 ],\n",
       "       [4.96274252, 6.80726477],\n",
       "       [4.04417662, 4.77927952],\n",
       "       [3.99554363, 4.68740573],\n",
       "       [2.07776022, 2.96301867],\n",
       "       [4.82286793, 7.12638483],\n",
       "       [1.94592035, 2.9098438 ],\n",
       "       [5.08603179, 6.65899252],\n",
       "       [2.05381583, 2.64280418],\n",
       "       [4.01597519, 4.82520727],\n",
       "       [1.73415154, 2.84021393],\n",
       "       [2.09415703, 2.86085557],\n",
       "       [4.96032098, 7.00697798],\n",
       "       [5.64653368, 7.93077708],\n",
       "       [4.96972963, 7.25197609],\n",
       "       [4.99626574, 6.98756016],\n",
       "       [5.19911488, 7.06044382],\n",
       "       [2.10299985, 2.69852785],\n",
       "       [3.89624331, 4.799542  ],\n",
       "       [3.77770996, 5.02400043],\n",
       "       [6.00016901, 8.37757064],\n",
       "       [4.0601675 , 5.15536614],\n",
       "       [4.98099666, 6.87203881],\n",
       "       [4.09733617, 5.1875219 ],\n",
       "       [4.03229288, 4.75942038],\n",
       "       [5.25368844, 6.64218385],\n",
       "       [1.86492589, 2.72793645],\n",
       "       [3.87578054, 5.13535527],\n",
       "       [4.0814228 , 4.8644289 ],\n",
       "       [3.7358388 , 4.9307402 ],\n",
       "       [1.80865283, 2.97326719],\n",
       "       [4.63937726, 7.37525989],\n",
       "       [3.88835896, 5.04002061],\n",
       "       [4.26314399, 4.92345797],\n",
       "       [4.83974573, 7.08329398],\n",
       "       [3.71367933, 4.93161167],\n",
       "       [6.04453674, 7.9766747 ],\n",
       "       [5.97306319, 7.9785173 ],\n",
       "       [3.93805813, 5.27649897],\n",
       "       [4.75278021, 7.06602234],\n",
       "       [4.01214834, 4.91731581],\n",
       "       [5.0913578 , 7.27985923],\n",
       "       [1.95236127, 3.16388357],\n",
       "       [4.89410238, 6.77485234],\n",
       "       [6.17246216, 7.97559301],\n",
       "       [6.01264845, 8.22877656],\n",
       "       [1.95215891, 2.88878734],\n",
       "       [5.77032014, 7.78411218],\n",
       "       [4.9693206 , 6.99745681],\n",
       "       [3.93190913, 5.08171594],\n",
       "       [1.77177583, 2.9697409 ],\n",
       "       [2.12918149, 3.09780251],\n",
       "       [5.93162871, 7.82995225],\n",
       "       [1.89434193, 3.16433376],\n",
       "       [1.71201725, 3.13944684],\n",
       "       [3.89269383, 5.25839512],\n",
       "       [3.83563837, 4.61127161],\n",
       "       [4.75456157, 7.00887408],\n",
       "       [3.86913772, 4.45432261],\n",
       "       [4.78642202, 6.74746818],\n",
       "       [5.85211262, 7.95654546],\n",
       "       [1.85956943, 2.65596548],\n",
       "       [2.25434144, 3.12237726],\n",
       "       [4.08875357, 4.52594247],\n",
       "       [5.14520425, 6.86875589],\n",
       "       [5.80526199, 7.81834635],\n",
       "       [3.90282746, 4.74578633],\n",
       "       [2.05939521, 3.04910618],\n",
       "       [5.84565246, 7.71104503],\n",
       "       [4.20444005, 4.78005467],\n",
       "       [3.74462853, 4.91956227],\n",
       "       [2.00164422, 2.88009907],\n",
       "       [4.32273207, 4.98410165],\n",
       "       [5.06348993, 7.08679141],\n",
       "       [6.0476116 , 7.93286494],\n",
       "       [6.28204968, 7.93962765],\n",
       "       [4.05723009, 5.03331912],\n",
       "       [1.66295118, 3.03259933],\n",
       "       [1.89471543, 3.18990092],\n",
       "       [4.89242691, 6.84801773],\n",
       "       [3.97001581, 4.98515527],\n",
       "       [4.14084163, 4.99228531],\n",
       "       [1.79699688, 2.92990076],\n",
       "       [1.91680584, 2.98113094],\n",
       "       [1.68904422, 3.19781497],\n",
       "       [5.94626   , 8.09906295],\n",
       "       [1.69953712, 2.5967042 ],\n",
       "       [5.5534576 , 8.30027896],\n",
       "       [2.05135338, 3.05748686],\n",
       "       [5.10386602, 6.66843955],\n",
       "       [4.926024  , 6.44056851],\n",
       "       [4.06048477, 4.87917142],\n",
       "       [5.2976325 , 6.83014528],\n",
       "       [6.2538882 , 7.93043536],\n",
       "       [2.09929075, 2.95743195],\n",
       "       [5.08181419, 6.95004136],\n",
       "       [4.2509782 , 5.18827303],\n",
       "       [2.14961169, 2.8186416 ],\n",
       "       [5.35600115, 7.06870852],\n",
       "       [5.72452438, 7.73170539],\n",
       "       [6.10959803, 7.67269509],\n",
       "       [3.92303757, 4.71856123],\n",
       "       [4.8683575 , 6.62599011],\n",
       "       [5.00496358, 6.75789755],\n",
       "       [1.91584996, 3.08749609],\n",
       "       [4.76273261, 6.91126169],\n",
       "       [1.94377001, 2.8641614 ],\n",
       "       [4.87052663, 7.15763814],\n",
       "       [2.00070718, 2.93557887],\n",
       "       [5.00902515, 7.06903057],\n",
       "       [4.33698829, 5.45338648],\n",
       "       [4.51763389, 6.98770018],\n",
       "       [5.62070274, 7.99959157],\n",
       "       [5.08741478, 7.09145067],\n",
       "       [6.16960743, 7.85749737],\n",
       "       [4.48578588, 4.77652392],\n",
       "       [4.00886405, 5.16731242],\n",
       "       [5.83601251, 8.05873268],\n",
       "       [2.22687822, 3.24580375],\n",
       "       [5.68148314, 7.76279437],\n",
       "       [2.38285759, 3.09547366],\n",
       "       [4.00843807, 5.35789634],\n",
       "       [4.71101673, 7.0579004 ],\n",
       "       [4.87812826, 7.18135912],\n",
       "       [1.69412241, 2.7495273 ],\n",
       "       [4.72788092, 6.9522922 ],\n",
       "       [5.86020582, 7.89417671],\n",
       "       [2.18684188, 2.91869469],\n",
       "       [6.02358953, 7.96167037],\n",
       "       [5.81085644, 7.7766237 ],\n",
       "       [4.92606726, 6.89499965],\n",
       "       [2.26945908, 3.15816748],\n",
       "       [2.15101368, 2.99942892],\n",
       "       [5.17839364, 6.82100252],\n",
       "       [2.06697185, 3.24699915],\n",
       "       [3.83325046, 4.99906788],\n",
       "       [1.75480511, 2.98909875],\n",
       "       [3.77718199, 4.84351197],\n",
       "       [6.07685944, 7.97129205],\n",
       "       [2.30185013, 3.17664528],\n",
       "       [3.93409853, 5.10098292],\n",
       "       [5.13629323, 7.02006926],\n",
       "       [3.95520209, 4.82015869],\n",
       "       [1.83724432, 2.93133434],\n",
       "       [2.07384849, 3.06149035],\n",
       "       [5.17683523, 6.88668887],\n",
       "       [4.04260443, 5.24194611],\n",
       "       [3.72794769, 5.18642239],\n",
       "       [2.1274348 , 2.71969889],\n",
       "       [6.24131403, 8.00236015],\n",
       "       [6.28580956, 8.26100823],\n",
       "       [4.94264609, 6.75776678],\n",
       "       [5.9624202 , 8.03509129],\n",
       "       [3.94187212, 4.96207283],\n",
       "       [4.6159319 , 7.14233825],\n",
       "       [5.25283927, 7.07878451],\n",
       "       [4.91722714, 7.15488498],\n",
       "       [1.95819932, 2.83664191],\n",
       "       [5.86259359, 8.06214166],\n",
       "       [2.29097634, 3.11532526],\n",
       "       [5.84106903, 8.2894773 ],\n",
       "       [5.30683382, 7.13162907],\n",
       "       [4.83781721, 7.0483216 ],\n",
       "       [5.01323825, 6.83992645],\n",
       "       [5.69588026, 7.88693713],\n",
       "       [3.84251164, 4.9662127 ],\n",
       "       [5.90093115, 7.89595635],\n",
       "       [5.88750117, 7.94609353],\n",
       "       [4.89269842, 6.87585909],\n",
       "       [1.99235787, 3.24726613],\n",
       "       [4.0071454 , 5.15575138],\n",
       "       [5.87925666, 7.96384509],\n",
       "       [1.92625288, 3.03360067],\n",
       "       [3.83908852, 4.85127729],\n",
       "       [3.88259339, 4.80646484],\n",
       "       [5.73768191, 8.02756432],\n",
       "       [4.8879194 , 6.80151705],\n",
       "       [5.95675291, 7.81702928],\n",
       "       [4.22861036, 5.03172225],\n",
       "       [4.1120285 , 4.81636831],\n",
       "       [5.91141632, 7.77075104],\n",
       "       [1.70105815, 2.95894428],\n",
       "       [5.09699751, 6.76216468],\n",
       "       [5.71816467, 8.12989747],\n",
       "       [3.94514306, 5.00232781],\n",
       "       [5.04110256, 7.35640445],\n",
       "       [3.85384105, 4.74650205],\n",
       "       [4.90758717, 7.08569513],\n",
       "       [6.11331287, 8.36463256],\n",
       "       [4.14085999, 5.15333753],\n",
       "       [2.22782701, 3.08877858],\n",
       "       [3.51906105, 4.9952564 ],\n",
       "       [5.92536948, 7.87868795],\n",
       "       [3.89139286, 5.06207246],\n",
       "       [5.14900617, 7.07562871],\n",
       "       [6.0014155 , 7.85274694],\n",
       "       [4.55801191, 7.12457171],\n",
       "       [4.75665588, 6.93638518],\n",
       "       [4.09362335, 5.05897604],\n",
       "       [1.7860909 , 3.28712712]])"
      ]
     },
     "execution_count": 20,
     "metadata": {},
     "output_type": "execute_result"
    }
   ],
   "source": [
    "x"
   ]
  },
  {
   "cell_type": "code",
   "execution_count": 21,
   "id": "5db7a502",
   "metadata": {},
   "outputs": [
    {
     "data": {
      "image/png": "[encoded data removed]",
      "text/plain": [
       "<Figure size 640x480 with 1 Axes>"
      ]
     },
     "metadata": {},
     "output_type": "display_data"
    }
   ],
   "source": [
    "plt.scatter(x[:,0],x[:,1])\n",
    "plt.show()"
   ]
  },
  {
   "cell_type": "code",
   "execution_count": 22,
   "id": "5636985d",
   "metadata": {},
   "outputs": [],
   "source": [
    "from sklearn.cluster import KMeans"
   ]
  },
  {
   "cell_type": "code",
   "execution_count": 23,
   "id": "f4268d2a",
   "metadata": {},
   "outputs": [],
   "source": [
    "model = KMeans(4)"
   ]
  },
  {
   "cell_type": "code",
   "execution_count": 24,
   "id": "137b43bf",
   "metadata": {},
   "outputs": [
    {
     "name": "stderr",
     "output_type": "stream",
     "text": [
      "C:\\ProgramData\\anaconda3\\Lib\\site-packages\\sklearn\\cluster\\_kmeans.py:870: FutureWarning: The default value of `n_init` will change from 10 to 'auto' in 1.4. Set the value of `n_init` explicitly to suppress the warning\n",
      "  warnings.warn(\n",
      "C:\\ProgramData\\anaconda3\\Lib\\site-packages\\sklearn\\cluster\\_kmeans.py:1382: UserWarning: KMeans is known to have a memory leak on Windows with MKL, when there are less chunks than available threads. You can avoid it by setting the environment variable OMP_NUM_THREADS=2.\n",
      "  warnings.warn(\n"
     ]
    },
    {
     "data": {
      "text/html": [
       "<style>#sk-container-id-2 {color: black;background-color: white;}#sk-container-id-2 pre{padding: 0;}#sk-container-id-2 div.sk-toggleable {background-color: white;}#sk-container-id-2 label.sk-toggleable__label {cursor: pointer;display: block;width: 100%;margin-bottom: 0;padding: 0.3em;box-sizing: border-box;text-align: center;}#sk-container-id-2 label.sk-toggleable__label-arrow:before {content: \"▸\";float: left;margin-right: 0.25em;color: #696969;}#sk-container-id-2 label.sk-toggleable__label-arrow:hover:before {color: black;}#sk-container-id-2 div.sk-estimator:hover label.sk-toggleable__label-arrow:before {color: black;}#sk-container-id-2 div.sk-toggleable__content {max-height: 0;max-width: 0;overflow: hidden;text-align: left;background-color: #f0f8ff;}#sk-container-id-2 div.sk-toggleable__content pre {margin: 0.2em;color: black;border-radius: 0.25em;background-color: #f0f8ff;}#sk-container-id-2 input.sk-toggleable__control:checked~div.sk-toggleable__content {max-height: 200px;max-width: 100%;overflow: auto;}#sk-container-id-2 input.sk-toggleable__control:checked~label.sk-toggleable__label-arrow:before {content: \"▾\";}#sk-container-id-2 div.sk-estimator input.sk-toggleable__control:checked~label.sk-toggleable__label {background-color: #d4ebff;}#sk-container-id-2 div.sk-label input.sk-toggleable__control:checked~label.sk-toggleable__label {background-color: #d4ebff;}#sk-container-id-2 input.sk-hidden--visually {border: 0;clip: rect(1px 1px 1px 1px);clip: rect(1px, 1px, 1px, 1px);height: 1px;margin: -1px;overflow: hidden;padding: 0;position: absolute;width: 1px;}#sk-container-id-2 div.sk-estimator {font-family: monospace;background-color: #f0f8ff;border: 1px dotted black;border-radius: 0.25em;box-sizing: border-box;margin-bottom: 0.5em;}#sk-container-id-2 div.sk-estimator:hover {background-color: #d4ebff;}#sk-container-id-2 div.sk-parallel-item::after {content: \"\";width: 100%;border-bottom: 1px solid gray;flex-grow: 1;}#sk-container-id-2 div.sk-label:hover label.sk-toggleable__label {background-color: #d4ebff;}#sk-container-id-2 div.sk-serial::before {content: \"\";position: absolute;border-left: 1px solid gray;box-sizing: border-box;top: 0;bottom: 0;left: 50%;z-index: 0;}#sk-container-id-2 div.sk-serial {display: flex;flex-direction: column;align-items: center;background-color: white;padding-right: 0.2em;padding-left: 0.2em;position: relative;}#sk-container-id-2 div.sk-item {position: relative;z-index: 1;}#sk-container-id-2 div.sk-parallel {display: flex;align-items: stretch;justify-content: center;background-color: white;position: relative;}#sk-container-id-2 div.sk-item::before, #sk-container-id-2 div.sk-parallel-item::before {content: \"\";position: absolute;border-left: 1px solid gray;box-sizing: border-box;top: 0;bottom: 0;left: 50%;z-index: -1;}#sk-container-id-2 div.sk-parallel-item {display: flex;flex-direction: column;z-index: 1;position: relative;background-color: white;}#sk-container-id-2 div.sk-parallel-item:first-child::after {align-self: flex-end;width: 50%;}#sk-container-id-2 div.sk-parallel-item:last-child::after {align-self: flex-start;width: 50%;}#sk-container-id-2 div.sk-parallel-item:only-child::after {width: 0;}#sk-container-id-2 div.sk-dashed-wrapped {border: 1px dashed gray;margin: 0 0.4em 0.5em 0.4em;box-sizing: border-box;padding-bottom: 0.4em;background-color: white;}#sk-container-id-2 div.sk-label label {font-family: monospace;font-weight: bold;display: inline-block;line-height: 1.2em;}#sk-container-id-2 div.sk-label-container {text-align: center;}#sk-container-id-2 div.sk-container {/* jupyter's `normalize.less` sets `[hidden] { display: none; }` but bootstrap.min.css set `[hidden] { display: none !important; }` so we also need the `!important` here to be able to override the default hidden behavior on the sphinx rendered scikit-learn.org. See: https://github.com/scikit-learn/scikit-learn/issues/21755 */display: inline-block !important;position: relative;}#sk-container-id-2 div.sk-text-repr-fallback {display: none;}</style><div id=\"sk-container-id-2\" class=\"sk-top-container\"><div class=\"sk-text-repr-fallback\"><pre>KMeans(n_clusters=4)</pre><b>In a Jupyter environment, please rerun this cell to show the HTML representation or trust the notebook. <br />On GitHub, the HTML representation is unable to render, please try loading this page with nbviewer.org.</b></div><div class=\"sk-container\" hidden><div class=\"sk-item\"><div class=\"sk-estimator sk-toggleable\"><input class=\"sk-toggleable__control sk-hidden--visually\" id=\"sk-estimator-id-2\" type=\"checkbox\" checked><label for=\"sk-estimator-id-2\" class=\"sk-toggleable__label sk-toggleable__label-arrow\">KMeans</label><div class=\"sk-toggleable__content\"><pre>KMeans(n_clusters=4)</pre></div></div></div></div></div>"
      ],
      "text/plain": [
       "KMeans(n_clusters=4)"
      ]
     },
     "execution_count": 24,
     "metadata": {},
     "output_type": "execute_result"
    }
   ],
   "source": [
    "model.fit(x)"
   ]
  },
  {
   "cell_type": "code",
   "execution_count": 25,
   "id": "f1e76153",
   "metadata": {},
   "outputs": [
    {
     "name": "stderr",
     "output_type": "stream",
     "text": [
      "C:\\ProgramData\\anaconda3\\Lib\\site-packages\\sklearn\\cluster\\_kmeans.py:870: FutureWarning: The default value of `n_init` will change from 10 to 'auto' in 1.4. Set the value of `n_init` explicitly to suppress the warning\n",
      "  warnings.warn(\n",
      "C:\\ProgramData\\anaconda3\\Lib\\site-packages\\sklearn\\cluster\\_kmeans.py:1382: UserWarning: KMeans is known to have a memory leak on Windows with MKL, when there are less chunks than available threads. You can avoid it by setting the environment variable OMP_NUM_THREADS=2.\n",
      "  warnings.warn(\n"
     ]
    }
   ],
   "source": [
    "y_pred = model.fit_predict(x)"
   ]
  },
  {
   "cell_type": "code",
   "execution_count": 26,
   "id": "23115914",
   "metadata": {},
   "outputs": [
    {
     "data": {
      "text/plain": [
       "array([1, 2, 0, 0, 0, 1, 1, 2, 0, 0, 1, 0, 1, 3, 2, 1, 3, 2, 3, 1, 1, 2,\n",
       "       2, 0, 0, 3, 0, 3, 1, 0, 2, 0, 2, 0, 2, 1, 2, 0, 1, 0, 0, 0, 3, 3,\n",
       "       0, 3, 0, 2, 3, 1, 3, 0, 1, 3, 1, 0, 1, 3, 2, 3, 3, 0, 1, 3, 0, 1,\n",
       "       3, 1, 2, 3, 0, 3, 1, 0, 2, 2, 0, 2, 3, 0, 2, 3, 3, 1, 0, 1, 3, 1,\n",
       "       3, 1, 0, 2, 0, 1, 0, 3, 2, 0, 0, 0, 2, 1, 0, 3, 2, 3, 0, 2, 1, 0,\n",
       "       2, 1, 1, 2, 1, 0, 2, 2, 3, 3, 1, 3, 1, 2, 3, 3, 0, 2, 1, 3, 2, 2,\n",
       "       2, 0, 2, 0, 0, 1, 0, 0, 1, 1, 0, 0, 0, 3, 0, 0, 2, 2, 3, 3, 0, 2,\n",
       "       1, 2, 0, 1, 2, 1, 3, 1, 3, 2, 0, 1, 0, 3, 3, 0, 3, 1, 3, 2, 2, 1,\n",
       "       1, 3, 2, 2, 2, 3, 0, 1, 3, 1, 1, 1, 3, 1, 3, 1, 1, 2, 1, 0, 0, 0,\n",
       "       2, 2, 0, 3, 2, 2, 1, 3, 1, 3, 1, 2, 1, 1, 3, 0, 3, 3, 3, 1, 2, 2,\n",
       "       0, 2, 3, 2, 2, 3, 1, 2, 2, 2, 1, 3, 2, 2, 3, 2, 0, 0, 2, 3, 2, 3,\n",
       "       1, 3, 0, 0, 1, 0, 3, 2, 1, 1, 0, 1, 1, 2, 2, 3, 2, 3, 0, 1, 1, 2,\n",
       "       3, 0, 2, 1, 0, 2, 2, 1, 2, 3, 0, 0, 2, 1, 1, 3, 2, 2, 1, 1, 1, 0,\n",
       "       1, 0, 1, 3, 3, 2, 3, 0, 1, 3, 2, 1, 3, 0, 0, 2, 3, 3, 1, 3, 1, 3,\n",
       "       1, 3, 2, 3, 0, 3, 0, 2, 2, 0, 1, 0, 1, 2, 3, 3, 1, 3, 0, 1, 0, 0,\n",
       "       3, 1, 1, 3, 1, 2, 1, 2, 0, 1, 2, 3, 2, 1, 1, 3, 2, 2, 1, 0, 0, 3,\n",
       "       0, 2, 3, 3, 3, 1, 0, 1, 0, 3, 3, 3, 0, 2, 0, 0, 3, 1, 2, 0, 1, 2,\n",
       "       2, 0, 3, 0, 2, 2, 0, 1, 3, 0, 2, 3, 2, 3, 0, 2, 1, 2, 0, 2, 3, 0,\n",
       "       3, 3, 2, 1])"
      ]
     },
     "execution_count": 26,
     "metadata": {},
     "output_type": "execute_result"
    }
   ],
   "source": [
    "y_pred"
   ]
  },
  {
   "cell_type": "code",
   "execution_count": 27,
   "id": "1981a036",
   "metadata": {},
   "outputs": [
    {
     "name": "stderr",
     "output_type": "stream",
     "text": [
      "C:\\Users\\pravi\\AppData\\Local\\Temp\\ipykernel_19644\\1681239159.py:1: UserWarning: No data for colormapping provided via 'c'. Parameters 'cmap' will be ignored\n",
      "  plt.scatter(x[:,0],x[:,1],cmap='rainbow')\n"
     ]
    },
    {
     "data": {
      "image/png": "[encoded data removed]",
      "text/plain": [
       "<Figure size 640x480 with 1 Axes>"
      ]
     },
     "metadata": {},
     "output_type": "display_data"
    }
   ],
   "source": [
    "plt.scatter(x[:,0],x[:,1],cmap='rainbow')\n",
    "plt.show()"
   ]
  },
  {
   "cell_type": "code",
   "execution_count": 28,
   "id": "a84768ef",
   "metadata": {},
   "outputs": [],
   "source": [
    "# Elbow method"
   ]
  },
  {
   "cell_type": "code",
   "execution_count": 29,
   "id": "bbd0451e",
   "metadata": {},
   "outputs": [
    {
     "name": "stderr",
     "output_type": "stream",
     "text": [
      "C:\\ProgramData\\anaconda3\\Lib\\site-packages\\sklearn\\cluster\\_kmeans.py:870: FutureWarning: The default value of `n_init` will change from 10 to 'auto' in 1.4. Set the value of `n_init` explicitly to suppress the warning\n",
      "  warnings.warn(\n",
      "C:\\ProgramData\\anaconda3\\Lib\\site-packages\\sklearn\\cluster\\_kmeans.py:1382: UserWarning: KMeans is known to have a memory leak on Windows with MKL, when there are less chunks than available threads. You can avoid it by setting the environment variable OMP_NUM_THREADS=2.\n",
      "  warnings.warn(\n",
      "C:\\ProgramData\\anaconda3\\Lib\\site-packages\\sklearn\\cluster\\_kmeans.py:870: FutureWarning: The default value of `n_init` will change from 10 to 'auto' in 1.4. Set the value of `n_init` explicitly to suppress the warning\n",
      "  warnings.warn(\n",
      "C:\\ProgramData\\anaconda3\\Lib\\site-packages\\sklearn\\cluster\\_kmeans.py:1382: UserWarning: KMeans is known to have a memory leak on Windows with MKL, when there are less chunks than available threads. You can avoid it by setting the environment variable OMP_NUM_THREADS=2.\n",
      "  warnings.warn(\n",
      "C:\\ProgramData\\anaconda3\\Lib\\site-packages\\sklearn\\cluster\\_kmeans.py:870: FutureWarning: The default value of `n_init` will change from 10 to 'auto' in 1.4. Set the value of `n_init` explicitly to suppress the warning\n",
      "  warnings.warn(\n",
      "C:\\ProgramData\\anaconda3\\Lib\\site-packages\\sklearn\\cluster\\_kmeans.py:1382: UserWarning: KMeans is known to have a memory leak on Windows with MKL, when there are less chunks than available threads. You can avoid it by setting the environment variable OMP_NUM_THREADS=2.\n",
      "  warnings.warn(\n",
      "C:\\ProgramData\\anaconda3\\Lib\\site-packages\\sklearn\\cluster\\_kmeans.py:870: FutureWarning: The default value of `n_init` will change from 10 to 'auto' in 1.4. Set the value of `n_init` explicitly to suppress the warning\n",
      "  warnings.warn(\n",
      "C:\\ProgramData\\anaconda3\\Lib\\site-packages\\sklearn\\cluster\\_kmeans.py:1382: UserWarning: KMeans is known to have a memory leak on Windows with MKL, when there are less chunks than available threads. You can avoid it by setting the environment variable OMP_NUM_THREADS=2.\n",
      "  warnings.warn(\n"
     ]
    }
   ],
   "source": [
    "wcss = []\n",
    "for i in range(1,5):\n",
    "    kmeans = KMeans(i)\n",
    "    kmeans.fit(x)\n",
    "    wcss_iter = kmeans.inertia_\n",
    "    wcss.append(wcss_iter)"
   ]
  },
  {
   "cell_type": "code",
   "execution_count": 30,
   "id": "31cdf4bb",
   "metadata": {},
   "outputs": [
    {
     "data": {
      "text/plain": [
       "[2368.4102009004, 532.4481232370144, 132.04335319395364, 29.182629713570932]"
      ]
     },
     "execution_count": 30,
     "metadata": {},
     "output_type": "execute_result"
    }
   ],
   "source": [
    "wcss"
   ]
  },
  {
   "cell_type": "code",
   "execution_count": 31,
   "id": "da37e9fa",
   "metadata": {},
   "outputs": [
    {
     "data": {
      "image/png": "[encoded data removed]",
      "text/plain": [
       "<Figure size 640x480 with 1 Axes>"
      ]
     },
     "metadata": {},
     "output_type": "display_data"
    }
   ],
   "source": [
    "plt.plot(range(1,5),wcss)\n",
    "plt.title('ELBOW Method')\n",
    "plt.show()"
   ]
  },
  {
   "cell_type": "code",
   "execution_count": null,
   "id": "e7062a29",
   "metadata": {},
   "outputs": [],
   "source": []
  }
 ],
 "metadata": {
  "kernelspec": {
   "display_name": "Python 3 (ipykernel)",
   "language": "python",
   "name": "python3"
  },
  "language_info": {
   "codemirror_mode": {
    "name": "ipython",
    "version": 3
   },
   "file_extension": ".py",
   "mimetype": "text/x-python",
   "name": "python",
   "nbconvert_exporter": "python",
   "pygments_lexer": "ipython3",
   "version": "3.11.3"
  }
 },
 "nbformat": 4,
 "nbformat_minor": 5
}
