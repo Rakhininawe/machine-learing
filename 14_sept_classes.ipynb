{
 "cells": [
  {
   "cell_type": "code",
   "execution_count": 1,
   "id": "36a9732e",
   "metadata": {},
   "outputs": [],
   "source": [
    "class newclass:\n",
    "    x = 5"
   ]
  },
  {
   "cell_type": "code",
   "execution_count": 2,
   "id": "9ba91e31",
   "metadata": {},
   "outputs": [
    {
     "data": {
      "text/plain": [
       "type"
      ]
     },
     "execution_count": 2,
     "metadata": {},
     "output_type": "execute_result"
    }
   ],
   "source": [
    "type(newclass)"
   ]
  },
  {
   "cell_type": "code",
   "execution_count": 3,
   "id": "85f105e0",
   "metadata": {},
   "outputs": [],
   "source": [
    "s1 = newclass()"
   ]
  },
  {
   "cell_type": "code",
   "execution_count": 4,
   "id": "e49777e6",
   "metadata": {},
   "outputs": [
    {
     "name": "stdout",
     "output_type": "stream",
     "text": [
      "5\n"
     ]
    }
   ],
   "source": [
    "print(s1.x)"
   ]
  },
  {
   "cell_type": "code",
   "execution_count": 5,
   "id": "36b83c6d",
   "metadata": {},
   "outputs": [],
   "source": [
    "# all classes has function called __init__() it always execute when classes initialize"
   ]
  },
  {
   "cell_type": "code",
   "execution_count": 6,
   "id": "51539a93",
   "metadata": {},
   "outputs": [],
   "source": [
    "class Person:\n",
    "    def __init__(self,name,age):\n",
    "        self.name = name\n",
    "        self.age = age"
   ]
  },
  {
   "cell_type": "code",
   "execution_count": 7,
   "id": "bbfb3c50",
   "metadata": {},
   "outputs": [],
   "source": [
    "a1 = Person('ram',45)"
   ]
  },
  {
   "cell_type": "code",
   "execution_count": 8,
   "id": "55484a98",
   "metadata": {},
   "outputs": [
    {
     "data": {
      "text/plain": [
       "'ram'"
      ]
     },
     "execution_count": 8,
     "metadata": {},
     "output_type": "execute_result"
    }
   ],
   "source": [
    "a1.name"
   ]
  },
  {
   "cell_type": "code",
   "execution_count": 9,
   "id": "7f6eb42c",
   "metadata": {},
   "outputs": [
    {
     "data": {
      "text/plain": [
       "45"
      ]
     },
     "execution_count": 9,
     "metadata": {},
     "output_type": "execute_result"
    }
   ],
   "source": [
    "a1.age"
   ]
  },
  {
   "cell_type": "code",
   "execution_count": 10,
   "id": "00747818",
   "metadata": {},
   "outputs": [],
   "source": [
    "# inhertance allows to define a class that inherits all the methods and properties from parent class"
   ]
  },
  {
   "cell_type": "code",
   "execution_count": 11,
   "id": "f70fe170",
   "metadata": {},
   "outputs": [],
   "source": [
    "# Parent"
   ]
  },
  {
   "cell_type": "code",
   "execution_count": 18,
   "id": "32e70cc4",
   "metadata": {},
   "outputs": [],
   "source": [
    "class Person:\n",
    "    def __init__(self, fname,lname):\n",
    "        self.firstname = fname\n",
    "        self.lastname = lname\n",
    "    def printname(self):\n",
    "        print(self.firstname,self.lastname)"
   ]
  },
  {
   "cell_type": "code",
   "execution_count": 19,
   "id": "70bfd711",
   "metadata": {},
   "outputs": [],
   "source": [
    "x = Person('tanu','sharma')"
   ]
  },
  {
   "cell_type": "code",
   "execution_count": 20,
   "id": "9b1c017b",
   "metadata": {},
   "outputs": [
    {
     "data": {
      "text/plain": [
       "'tanu'"
      ]
     },
     "execution_count": 20,
     "metadata": {},
     "output_type": "execute_result"
    }
   ],
   "source": [
    "x.firstname"
   ]
  },
  {
   "cell_type": "code",
   "execution_count": 21,
   "id": "1937d1b8",
   "metadata": {},
   "outputs": [
    {
     "data": {
      "text/plain": [
       "'sharma'"
      ]
     },
     "execution_count": 21,
     "metadata": {},
     "output_type": "execute_result"
    }
   ],
   "source": [
    "x.lastname"
   ]
  },
  {
   "cell_type": "code",
   "execution_count": 22,
   "id": "53d04cca",
   "metadata": {},
   "outputs": [
    {
     "name": "stdout",
     "output_type": "stream",
     "text": [
      "tanu sharma\n"
     ]
    }
   ],
   "source": [
    "x.printname()"
   ]
  },
  {
   "cell_type": "code",
   "execution_count": 23,
   "id": "53895581",
   "metadata": {},
   "outputs": [],
   "source": [
    "# child class"
   ]
  },
  {
   "cell_type": "code",
   "execution_count": 25,
   "id": "78867840",
   "metadata": {},
   "outputs": [],
   "source": [
    "class student(Person):\n",
    "     pass"
   ]
  },
  {
   "cell_type": "code",
   "execution_count": 26,
   "id": "740dd068",
   "metadata": {},
   "outputs": [],
   "source": [
    "y = student('ranu','verma')"
   ]
  },
  {
   "cell_type": "code",
   "execution_count": 27,
   "id": "af8ac369",
   "metadata": {},
   "outputs": [
    {
     "data": {
      "text/plain": [
       "'ranu'"
      ]
     },
     "execution_count": 27,
     "metadata": {},
     "output_type": "execute_result"
    }
   ],
   "source": [
    "y.firstname"
   ]
  },
  {
   "cell_type": "code",
   "execution_count": 28,
   "id": "5f979cea",
   "metadata": {},
   "outputs": [
    {
     "data": {
      "text/plain": [
       "'verma'"
      ]
     },
     "execution_count": 28,
     "metadata": {},
     "output_type": "execute_result"
    }
   ],
   "source": [
    "y.lastname"
   ]
  },
  {
   "cell_type": "code",
   "execution_count": 29,
   "id": "ff4d7b99",
   "metadata": {},
   "outputs": [
    {
     "name": "stdout",
     "output_type": "stream",
     "text": [
      "ranu verma\n"
     ]
    }
   ],
   "source": [
    "y.printname()"
   ]
  },
  {
   "cell_type": "code",
   "execution_count": 30,
   "id": "1961875b",
   "metadata": {},
   "outputs": [],
   "source": [
    "# if you dont want to inherit properties and method from parent"
   ]
  },
  {
   "cell_type": "code",
   "execution_count": 31,
   "id": "2c7ead72",
   "metadata": {},
   "outputs": [],
   "source": [
    "class student(Person):\n",
    "    def __init__(self,fname,lname):\n",
    "        pass"
   ]
  },
  {
   "cell_type": "code",
   "execution_count": 32,
   "id": "59300280",
   "metadata": {},
   "outputs": [],
   "source": [
    "c = student('rma','rann')"
   ]
  },
  {
   "cell_type": "code",
   "execution_count": 34,
   "id": "d2ce7b5f",
   "metadata": {},
   "outputs": [],
   "source": [
    "# Super() function will make the child class inherit all the method and properties from parents "
   ]
  },
  {
   "cell_type": "code",
   "execution_count": 35,
   "id": "8a3b32d4",
   "metadata": {},
   "outputs": [],
   "source": [
    "class student(Person):\n",
    "    def __init__(self,fname,lname):\n",
    "        super().__init__(fname,lname)"
   ]
  },
  {
   "cell_type": "code",
   "execution_count": 36,
   "id": "120278f6",
   "metadata": {},
   "outputs": [],
   "source": [
    "d1 = student('ram','sharma')"
   ]
  },
  {
   "cell_type": "code",
   "execution_count": 37,
   "id": "5030ba1d",
   "metadata": {},
   "outputs": [
    {
     "data": {
      "text/plain": [
       "'ram'"
      ]
     },
     "execution_count": 37,
     "metadata": {},
     "output_type": "execute_result"
    }
   ],
   "source": [
    "d1.firstname"
   ]
  },
  {
   "cell_type": "code",
   "execution_count": 38,
   "id": "5ed97fb8",
   "metadata": {},
   "outputs": [
    {
     "name": "stdout",
     "output_type": "stream",
     "text": [
      "ram sharma\n"
     ]
    }
   ],
   "source": [
    "d1.printname()"
   ]
  },
  {
   "cell_type": "code",
   "execution_count": 39,
   "id": "34fe25cb",
   "metadata": {},
   "outputs": [],
   "source": [
    "class student(Person):\n",
    "    def __init__(self,fname,lname,year):\n",
    "        super().__init__(fname,lname)\n",
    "        self.graduationyear = year"
   ]
  },
  {
   "cell_type": "code",
   "execution_count": 41,
   "id": "3e2eaf7e",
   "metadata": {},
   "outputs": [],
   "source": [
    "e1 = student('john','sharma',1900)"
   ]
  },
  {
   "cell_type": "code",
   "execution_count": 42,
   "id": "1128cfde",
   "metadata": {},
   "outputs": [
    {
     "data": {
      "text/plain": [
       "'john'"
      ]
     },
     "execution_count": 42,
     "metadata": {},
     "output_type": "execute_result"
    }
   ],
   "source": [
    "e1.firstname"
   ]
  },
  {
   "cell_type": "code",
   "execution_count": 43,
   "id": "3fbe8729",
   "metadata": {},
   "outputs": [
    {
     "data": {
      "text/plain": [
       "'sharma'"
      ]
     },
     "execution_count": 43,
     "metadata": {},
     "output_type": "execute_result"
    }
   ],
   "source": [
    "e1.lastname"
   ]
  },
  {
   "cell_type": "code",
   "execution_count": 44,
   "id": "5e078cfc",
   "metadata": {},
   "outputs": [
    {
     "data": {
      "text/plain": [
       "1900"
      ]
     },
     "execution_count": 44,
     "metadata": {},
     "output_type": "execute_result"
    }
   ],
   "source": [
    "e1.graduationyear"
   ]
  },
  {
   "cell_type": "code",
   "execution_count": 45,
   "id": "e8a8f2e8",
   "metadata": {},
   "outputs": [
    {
     "name": "stdout",
     "output_type": "stream",
     "text": [
      "john sharma\n"
     ]
    }
   ],
   "source": [
    "e1.printname()"
   ]
  },
  {
   "cell_type": "code",
   "execution_count": 46,
   "id": "9abfe40f",
   "metadata": {},
   "outputs": [],
   "source": [
    "class student(Person):\n",
    "    def __init__(self,fname,lname,year):\n",
    "        super().__init__(fname,lname)\n",
    "        self.graduationyear = year\n",
    "    def welcome(self):\n",
    "        print(\"welcome\",self.firstname,self.lastname,\"to the student of passing year\",self.graduationyear)"
   ]
  },
  {
   "cell_type": "code",
   "execution_count": 47,
   "id": "57a0d0bf",
   "metadata": {},
   "outputs": [],
   "source": [
    "f1 = student('deepak','raut',2001)"
   ]
  },
  {
   "cell_type": "code",
   "execution_count": 48,
   "id": "7c406537",
   "metadata": {},
   "outputs": [
    {
     "data": {
      "text/plain": [
       "'deepak'"
      ]
     },
     "execution_count": 48,
     "metadata": {},
     "output_type": "execute_result"
    }
   ],
   "source": [
    "f1.firstname"
   ]
  },
  {
   "cell_type": "code",
   "execution_count": 49,
   "id": "a037a905",
   "metadata": {},
   "outputs": [
    {
     "data": {
      "text/plain": [
       "'raut'"
      ]
     },
     "execution_count": 49,
     "metadata": {},
     "output_type": "execute_result"
    }
   ],
   "source": [
    "f1.lastname"
   ]
  },
  {
   "cell_type": "code",
   "execution_count": 50,
   "id": "675ea498",
   "metadata": {},
   "outputs": [
    {
     "data": {
      "text/plain": [
       "2001"
      ]
     },
     "execution_count": 50,
     "metadata": {},
     "output_type": "execute_result"
    }
   ],
   "source": [
    "f1.graduationyear"
   ]
  },
  {
   "cell_type": "code",
   "execution_count": 51,
   "id": "3daf5891",
   "metadata": {},
   "outputs": [
    {
     "name": "stdout",
     "output_type": "stream",
     "text": [
      "deepak raut\n"
     ]
    }
   ],
   "source": [
    "f1.printname()"
   ]
  },
  {
   "cell_type": "code",
   "execution_count": 52,
   "id": "8552ae86",
   "metadata": {},
   "outputs": [
    {
     "name": "stdout",
     "output_type": "stream",
     "text": [
      "welcome deepak raut to the student of passing year 2001\n"
     ]
    }
   ],
   "source": [
    "f1.welcome()"
   ]
  },
  {
   "cell_type": "code",
   "execution_count": null,
   "id": "92e7893a",
   "metadata": {},
   "outputs": [],
   "source": []
  }
 ],
 "metadata": {
  "kernelspec": {
   "display_name": "Python 3 (ipykernel)",
   "language": "python",
   "name": "python3"
  },
  "language_info": {
   "codemirror_mode": {
    "name": "ipython",
    "version": 3
   },
   "file_extension": ".py",
   "mimetype": "text/x-python",
   "name": "python",
   "nbconvert_exporter": "python",
   "pygments_lexer": "ipython3",
   "version": "3.11.3"
  }
 },
 "nbformat": 4,
 "nbformat_minor": 5
}
